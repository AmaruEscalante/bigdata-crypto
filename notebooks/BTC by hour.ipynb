{
 "cells": [
  {
   "cell_type": "code",
   "execution_count": 1,
   "metadata": {},
   "outputs": [],
   "source": [
    "\n",
    "import pandas as pd"
   ]
  },
  {
   "cell_type": "code",
   "execution_count": 9,
   "metadata": {
    "pycharm": {
     "name": "#%%\n"
    }
   },
   "outputs": [],
   "source": [
    "# The date is used as the index to have a better data navigation\n",
    "data = pd.read_csv(\"../data/BTCUSD_1hr.csv\", index_col=1, parse_dates=True)\n",
    "data = data.reindex(index=data.index[::-1])  # Reorders the indexes of the csv."
   ]
  },
  {
   "cell_type": "code",
   "execution_count": 12,
   "metadata": {
    "pycharm": {
     "name": "#%%\n"
    }
   },
   "outputs": [],
   "source": [
    "data = data.drop(labels=['Unix Timestamp'], axis=1)"
   ]
  },
  {
   "cell_type": "code",
   "execution_count": 13,
   "metadata": {
    "pycharm": {
     "name": "#%%\n"
    }
   },
   "outputs": [
    {
     "output_type": "execute_result",
     "data": {
      "text/plain": [
       "                     Symbol    Open    High     Low   Close    Volume\n",
       "Date                                                                 \n",
       "2015-10-08 13:00:00  BTCUSD    0.00  245.00    0.00  245.00  0.606654\n",
       "2015-10-08 14:00:00  BTCUSD  245.00  245.00  244.50  245.00  4.453649\n",
       "2015-10-08 15:00:00  BTCUSD  245.00  245.00  244.92  244.92  3.016926\n",
       "2015-10-08 16:00:00  BTCUSD  244.92  244.92  244.25  244.25  3.895252\n",
       "2015-10-08 17:00:00  BTCUSD  244.25  244.99  244.02  244.99  3.920632"
      ],
      "text/html": "<div>\n<style scoped>\n    .dataframe tbody tr th:only-of-type {\n        vertical-align: middle;\n    }\n\n    .dataframe tbody tr th {\n        vertical-align: top;\n    }\n\n    .dataframe thead th {\n        text-align: right;\n    }\n</style>\n<table border=\"1\" class=\"dataframe\">\n  <thead>\n    <tr style=\"text-align: right;\">\n      <th></th>\n      <th>Symbol</th>\n      <th>Open</th>\n      <th>High</th>\n      <th>Low</th>\n      <th>Close</th>\n      <th>Volume</th>\n    </tr>\n    <tr>\n      <th>Date</th>\n      <th></th>\n      <th></th>\n      <th></th>\n      <th></th>\n      <th></th>\n      <th></th>\n    </tr>\n  </thead>\n  <tbody>\n    <tr>\n      <th>2015-10-08 13:00:00</th>\n      <td>BTCUSD</td>\n      <td>0.00</td>\n      <td>245.00</td>\n      <td>0.00</td>\n      <td>245.00</td>\n      <td>0.606654</td>\n    </tr>\n    <tr>\n      <th>2015-10-08 14:00:00</th>\n      <td>BTCUSD</td>\n      <td>245.00</td>\n      <td>245.00</td>\n      <td>244.50</td>\n      <td>245.00</td>\n      <td>4.453649</td>\n    </tr>\n    <tr>\n      <th>2015-10-08 15:00:00</th>\n      <td>BTCUSD</td>\n      <td>245.00</td>\n      <td>245.00</td>\n      <td>244.92</td>\n      <td>244.92</td>\n      <td>3.016926</td>\n    </tr>\n    <tr>\n      <th>2015-10-08 16:00:00</th>\n      <td>BTCUSD</td>\n      <td>244.92</td>\n      <td>244.92</td>\n      <td>244.25</td>\n      <td>244.25</td>\n      <td>3.895252</td>\n    </tr>\n    <tr>\n      <th>2015-10-08 17:00:00</th>\n      <td>BTCUSD</td>\n      <td>244.25</td>\n      <td>244.99</td>\n      <td>244.02</td>\n      <td>244.99</td>\n      <td>3.920632</td>\n    </tr>\n  </tbody>\n</table>\n</div>"
     },
     "metadata": {},
     "execution_count": 13
    }
   ],
   "source": [
    "data.head()"
   ]
  },
  {
   "cell_type": "code",
   "execution_count": 17,
   "metadata": {
    "pycharm": {
     "name": "#%%\n"
    }
   },
   "outputs": [
    {
     "output_type": "execute_result",
     "data": {
      "text/plain": [
       "                     Symbol     Open     High      Low    Close      Volume\n",
       "Date                                                                       \n",
       "2020-04-08 20:00:00  BTCUSD  7320.11  7375.72  7313.66  7327.70  153.655811\n",
       "2020-04-08 21:00:00  BTCUSD  7327.70  7370.00  7311.33  7337.19   35.551553\n",
       "2020-04-08 22:00:00  BTCUSD  7337.19  7390.25  7322.87  7367.28   88.486108\n",
       "2020-04-08 23:00:00  BTCUSD  7367.28  7398.92  7348.47  7369.60   66.558293\n",
       "2020-04-09 00:00:00  BTCUSD  7369.60  7369.60  7338.23  7338.23    7.788915"
      ],
      "text/html": "<div>\n<style scoped>\n    .dataframe tbody tr th:only-of-type {\n        vertical-align: middle;\n    }\n\n    .dataframe tbody tr th {\n        vertical-align: top;\n    }\n\n    .dataframe thead th {\n        text-align: right;\n    }\n</style>\n<table border=\"1\" class=\"dataframe\">\n  <thead>\n    <tr style=\"text-align: right;\">\n      <th></th>\n      <th>Symbol</th>\n      <th>Open</th>\n      <th>High</th>\n      <th>Low</th>\n      <th>Close</th>\n      <th>Volume</th>\n    </tr>\n    <tr>\n      <th>Date</th>\n      <th></th>\n      <th></th>\n      <th></th>\n      <th></th>\n      <th></th>\n      <th></th>\n    </tr>\n  </thead>\n  <tbody>\n    <tr>\n      <th>2020-04-08 20:00:00</th>\n      <td>BTCUSD</td>\n      <td>7320.11</td>\n      <td>7375.72</td>\n      <td>7313.66</td>\n      <td>7327.70</td>\n      <td>153.655811</td>\n    </tr>\n    <tr>\n      <th>2020-04-08 21:00:00</th>\n      <td>BTCUSD</td>\n      <td>7327.70</td>\n      <td>7370.00</td>\n      <td>7311.33</td>\n      <td>7337.19</td>\n      <td>35.551553</td>\n    </tr>\n    <tr>\n      <th>2020-04-08 22:00:00</th>\n      <td>BTCUSD</td>\n      <td>7337.19</td>\n      <td>7390.25</td>\n      <td>7322.87</td>\n      <td>7367.28</td>\n      <td>88.486108</td>\n    </tr>\n    <tr>\n      <th>2020-04-08 23:00:00</th>\n      <td>BTCUSD</td>\n      <td>7367.28</td>\n      <td>7398.92</td>\n      <td>7348.47</td>\n      <td>7369.60</td>\n      <td>66.558293</td>\n    </tr>\n    <tr>\n      <th>2020-04-09 00:00:00</th>\n      <td>BTCUSD</td>\n      <td>7369.60</td>\n      <td>7369.60</td>\n      <td>7338.23</td>\n      <td>7338.23</td>\n      <td>7.788915</td>\n    </tr>\n  </tbody>\n</table>\n</div>"
     },
     "metadata": {},
     "execution_count": 17
    }
   ],
   "source": [
    "data.tail()"
   ]
  },
  {
   "cell_type": "code",
   "execution_count": 16,
   "metadata": {},
   "outputs": [
    {
     "output_type": "execute_result",
     "data": {
      "text/plain": [
       "Date\n",
       "2015-10-08 13:00:00         inf\n",
       "2015-10-08 14:00:00    0.000000\n",
       "2015-10-08 15:00:00    0.000000\n",
       "2015-10-08 16:00:00    0.000000\n",
       "2015-10-08 17:00:00    0.302968\n",
       "                         ...   \n",
       "2020-04-08 20:00:00    0.759688\n",
       "2020-04-08 21:00:00    0.577262\n",
       "2020-04-08 22:00:00    0.723165\n",
       "2020-04-08 23:00:00    0.429467\n",
       "2020-04-09 00:00:00    0.000000\n",
       "Length: 39465, dtype: float64"
      ]
     },
     "metadata": {},
     "execution_count": 16
    }
   ],
   "source": [
    "# %open -> high\n",
    "open_to_high_chg = (data['High'] - data['Open'])/data['Open']*100.0\n",
    "open_to_high_chg"
   ]
  },
  {
   "cell_type": "code",
   "execution_count": 18,
   "metadata": {},
   "outputs": [
    {
     "output_type": "execute_result",
     "data": {
      "text/plain": [
       "Date\n",
       "2015-10-08 13:00:00         NaN\n",
       "2015-10-08 14:00:00   -0.204082\n",
       "2015-10-08 15:00:00   -0.032653\n",
       "2015-10-08 16:00:00   -0.273559\n",
       "2015-10-08 17:00:00   -0.094166\n",
       "                         ...   \n",
       "2020-04-08 20:00:00   -0.088113\n",
       "2020-04-08 21:00:00   -0.223399\n",
       "2020-04-08 22:00:00   -0.195170\n",
       "2020-04-08 23:00:00   -0.255318\n",
       "2020-04-09 00:00:00   -0.425668\n",
       "Length: 39465, dtype: float64"
      ]
     },
     "metadata": {},
     "execution_count": 18
    }
   ],
   "source": [
    "open_to_low_chg = (data['Low'] - data['Open'])/data['Open']*100.0\n",
    "open_to_low_chg"
   ]
  },
  {
   "cell_type": "code",
   "execution_count": 25,
   "metadata": {},
   "outputs": [
    {
     "output_type": "execute_result",
     "data": {
      "text/plain": [
       "Date\n",
       "2015-10-08 13:00:00    0.000000\n",
       "2015-10-08 14:00:00    0.000000\n",
       "2015-10-08 15:00:00   -0.032653\n",
       "2015-10-08 16:00:00   -0.273559\n",
       "2015-10-08 17:00:00    0.000000\n",
       "                         ...   \n",
       "2020-04-08 20:00:00   -0.651055\n",
       "2020-04-08 21:00:00   -0.445183\n",
       "2020-04-08 22:00:00   -0.310815\n",
       "2020-04-08 23:00:00   -0.396274\n",
       "2020-04-09 00:00:00   -0.425668\n",
       "Length: 39465, dtype: float64"
      ]
     },
     "metadata": {},
     "execution_count": 25
    }
   ],
   "source": [
    "high2close_chg = (data['Close'] - data['High'])/data['High']*100.0\n",
    "high2close_chg"
   ]
  },
  {
   "cell_type": "code",
   "execution_count": 29,
   "metadata": {},
   "outputs": [
    {
     "output_type": "execute_result",
     "data": {
      "text/plain": [
       "Date\n",
       "2015-10-08 13:00:00         inf\n",
       "2015-10-08 14:00:00    0.204499\n",
       "2015-10-08 15:00:00    0.000000\n",
       "2015-10-08 16:00:00    0.000000\n",
       "2015-10-08 17:00:00    0.397508\n",
       "                         ...   \n",
       "2020-04-08 20:00:00    0.191970\n",
       "2020-04-08 21:00:00    0.353698\n",
       "2020-04-08 22:00:00    0.606456\n",
       "2020-04-08 23:00:00    0.287543\n",
       "2020-04-09 00:00:00    0.000000\n",
       "Length: 39465, dtype: float64"
      ]
     },
     "metadata": {},
     "execution_count": 29
    }
   ],
   "source": [
    "low2close_chg = (data['Close'] - data['Low'])/data['Low']*100.0\n",
    "low2close_chg"
   ]
  },
  {
   "cell_type": "code",
   "execution_count": 33,
   "metadata": {},
   "outputs": [],
   "source": [
    "# EMA Calculation\n",
    "ema5 = data['Close'].ewm(span=5, adjust=False).mean()\n",
    "ema20 = data['Close'].ewm(span=20, adjust=False).mean()"
   ]
  },
  {
   "cell_type": "code",
   "execution_count": 27,
   "metadata": {},
   "outputs": [],
   "source": [
    "new_data = data.drop(labels=[\"Open\", \"High\", \"Low\", \"Close\"], axis=1)"
   ]
  },
  {
   "cell_type": "code",
   "execution_count": 34,
   "metadata": {},
   "outputs": [],
   "source": [
    "new_data['%open->high'] = open_to_high_chg\n",
    "new_data['%open->low'] = open_to_low_chg\n",
    "new_data['%high->close'] = high2close_chg\n",
    "new_data['%low->close'] = low2close_chg\n",
    "new_data['EMA5'] = ema5\n",
    "new_data['EMA20'] = ema20"
   ]
  },
  {
   "cell_type": "code",
   "execution_count": 35,
   "metadata": {},
   "outputs": [
    {
     "output_type": "execute_result",
     "data": {
      "text/plain": [
       "                     Symbol      Volume  %open->high  %open->low  \\\n",
       "Date                                                               \n",
       "2015-10-08 13:00:00  BTCUSD    0.606654          inf         NaN   \n",
       "2015-10-08 14:00:00  BTCUSD    4.453649     0.000000   -0.204082   \n",
       "2015-10-08 15:00:00  BTCUSD    3.016926     0.000000   -0.032653   \n",
       "2015-10-08 16:00:00  BTCUSD    3.895252     0.000000   -0.273559   \n",
       "2015-10-08 17:00:00  BTCUSD    3.920632     0.302968   -0.094166   \n",
       "...                     ...         ...          ...         ...   \n",
       "2020-04-08 20:00:00  BTCUSD  153.655811     0.759688   -0.088113   \n",
       "2020-04-08 21:00:00  BTCUSD   35.551553     0.577262   -0.223399   \n",
       "2020-04-08 22:00:00  BTCUSD   88.486108     0.723165   -0.195170   \n",
       "2020-04-08 23:00:00  BTCUSD   66.558293     0.429467   -0.255318   \n",
       "2020-04-09 00:00:00  BTCUSD    7.788915     0.000000   -0.425668   \n",
       "\n",
       "                     %high->close  %low->close         EMA5        EMA20  \n",
       "Date                                                                      \n",
       "2015-10-08 13:00:00      0.000000          inf   245.000000   245.000000  \n",
       "2015-10-08 14:00:00      0.000000     0.204499   245.000000   245.000000  \n",
       "2015-10-08 15:00:00     -0.032653     0.000000   244.973333   244.992381  \n",
       "2015-10-08 16:00:00     -0.273559     0.000000   244.732222   244.921678  \n",
       "2015-10-08 17:00:00      0.000000     0.397508   244.818148   244.928185  \n",
       "...                           ...          ...          ...          ...  \n",
       "2020-04-08 20:00:00     -0.651055     0.191970  7317.664385  7298.424187  \n",
       "2020-04-08 21:00:00     -0.445183     0.353698  7324.172923  7302.116169  \n",
       "2020-04-08 22:00:00     -0.310815     0.606456  7338.541949  7308.322248  \n",
       "2020-04-08 23:00:00     -0.396274     0.287543  7348.894633  7314.158225  \n",
       "2020-04-09 00:00:00     -0.425668     0.000000  7345.339755  7316.450775  \n",
       "\n",
       "[39465 rows x 8 columns]"
      ],
      "text/html": "<div>\n<style scoped>\n    .dataframe tbody tr th:only-of-type {\n        vertical-align: middle;\n    }\n\n    .dataframe tbody tr th {\n        vertical-align: top;\n    }\n\n    .dataframe thead th {\n        text-align: right;\n    }\n</style>\n<table border=\"1\" class=\"dataframe\">\n  <thead>\n    <tr style=\"text-align: right;\">\n      <th></th>\n      <th>Symbol</th>\n      <th>Volume</th>\n      <th>%open-&gt;high</th>\n      <th>%open-&gt;low</th>\n      <th>%high-&gt;close</th>\n      <th>%low-&gt;close</th>\n      <th>EMA5</th>\n      <th>EMA20</th>\n    </tr>\n    <tr>\n      <th>Date</th>\n      <th></th>\n      <th></th>\n      <th></th>\n      <th></th>\n      <th></th>\n      <th></th>\n      <th></th>\n      <th></th>\n    </tr>\n  </thead>\n  <tbody>\n    <tr>\n      <th>2015-10-08 13:00:00</th>\n      <td>BTCUSD</td>\n      <td>0.606654</td>\n      <td>inf</td>\n      <td>NaN</td>\n      <td>0.000000</td>\n      <td>inf</td>\n      <td>245.000000</td>\n      <td>245.000000</td>\n    </tr>\n    <tr>\n      <th>2015-10-08 14:00:00</th>\n      <td>BTCUSD</td>\n      <td>4.453649</td>\n      <td>0.000000</td>\n      <td>-0.204082</td>\n      <td>0.000000</td>\n      <td>0.204499</td>\n      <td>245.000000</td>\n      <td>245.000000</td>\n    </tr>\n    <tr>\n      <th>2015-10-08 15:00:00</th>\n      <td>BTCUSD</td>\n      <td>3.016926</td>\n      <td>0.000000</td>\n      <td>-0.032653</td>\n      <td>-0.032653</td>\n      <td>0.000000</td>\n      <td>244.973333</td>\n      <td>244.992381</td>\n    </tr>\n    <tr>\n      <th>2015-10-08 16:00:00</th>\n      <td>BTCUSD</td>\n      <td>3.895252</td>\n      <td>0.000000</td>\n      <td>-0.273559</td>\n      <td>-0.273559</td>\n      <td>0.000000</td>\n      <td>244.732222</td>\n      <td>244.921678</td>\n    </tr>\n    <tr>\n      <th>2015-10-08 17:00:00</th>\n      <td>BTCUSD</td>\n      <td>3.920632</td>\n      <td>0.302968</td>\n      <td>-0.094166</td>\n      <td>0.000000</td>\n      <td>0.397508</td>\n      <td>244.818148</td>\n      <td>244.928185</td>\n    </tr>\n    <tr>\n      <th>...</th>\n      <td>...</td>\n      <td>...</td>\n      <td>...</td>\n      <td>...</td>\n      <td>...</td>\n      <td>...</td>\n      <td>...</td>\n      <td>...</td>\n    </tr>\n    <tr>\n      <th>2020-04-08 20:00:00</th>\n      <td>BTCUSD</td>\n      <td>153.655811</td>\n      <td>0.759688</td>\n      <td>-0.088113</td>\n      <td>-0.651055</td>\n      <td>0.191970</td>\n      <td>7317.664385</td>\n      <td>7298.424187</td>\n    </tr>\n    <tr>\n      <th>2020-04-08 21:00:00</th>\n      <td>BTCUSD</td>\n      <td>35.551553</td>\n      <td>0.577262</td>\n      <td>-0.223399</td>\n      <td>-0.445183</td>\n      <td>0.353698</td>\n      <td>7324.172923</td>\n      <td>7302.116169</td>\n    </tr>\n    <tr>\n      <th>2020-04-08 22:00:00</th>\n      <td>BTCUSD</td>\n      <td>88.486108</td>\n      <td>0.723165</td>\n      <td>-0.195170</td>\n      <td>-0.310815</td>\n      <td>0.606456</td>\n      <td>7338.541949</td>\n      <td>7308.322248</td>\n    </tr>\n    <tr>\n      <th>2020-04-08 23:00:00</th>\n      <td>BTCUSD</td>\n      <td>66.558293</td>\n      <td>0.429467</td>\n      <td>-0.255318</td>\n      <td>-0.396274</td>\n      <td>0.287543</td>\n      <td>7348.894633</td>\n      <td>7314.158225</td>\n    </tr>\n    <tr>\n      <th>2020-04-09 00:00:00</th>\n      <td>BTCUSD</td>\n      <td>7.788915</td>\n      <td>0.000000</td>\n      <td>-0.425668</td>\n      <td>-0.425668</td>\n      <td>0.000000</td>\n      <td>7345.339755</td>\n      <td>7316.450775</td>\n    </tr>\n  </tbody>\n</table>\n<p>39465 rows × 8 columns</p>\n</div>"
     },
     "metadata": {},
     "execution_count": 35
    }
   ],
   "source": [
    "new_data"
   ]
  },
  {
   "cell_type": "code",
   "execution_count": 37,
   "metadata": {},
   "outputs": [],
   "source": [
    "new_data.to_csv('../data/BTCUSD_1hr_indicators.csv')"
   ]
  }
 ],
 "metadata": {
  "kernelspec": {
   "name": "python3",
   "display_name": "Python 3.7.3 64-bit ('venv': venv)"
  },
  "language_info": {
   "codemirror_mode": {
    "name": "ipython",
    "version": 3
   },
   "file_extension": ".py",
   "mimetype": "text/x-python",
   "name": "python",
   "nbconvert_exporter": "python",
   "pygments_lexer": "ipython3",
   "version": "3.7.3"
  },
  "interpreter": {
   "hash": "75c9ad7005671cde70417bc4d1e2f1d5fb63da3056e16b37d2fdd40e02baeb97"
  }
 },
 "nbformat": 4,
 "nbformat_minor": 1
}