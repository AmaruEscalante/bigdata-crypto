{
 "cells": [
  {
   "cell_type": "code",
   "execution_count": 5,
   "source": [
    "import pandas as pd\n",
    "import csv\n",
    "import matplotlib.pyplot as plt\n",
    "\n",
    "fields = ['timestamp', 'replies','likes', 'retweets' ,'text']\n",
    "filename = 'gs://bigdata-general/tweets.csv'\n",
    "parts = 17 # 17 parts {0,1,2, ... , 16} because there are around 16 800 000 tweets.\n",
    "CHUNK_SIZE = 1000000\n",
    "tweets = []\n"
   ],
   "outputs": [],
   "metadata": {}
  },
  {
   "cell_type": "code",
   "execution_count": 8,
   "source": [
    "start = 9\n",
    "counter = 8\n",
    "for part in range(start, parts):\n",
    "    chunk = CHUNK_SIZE * part\n",
    "    chunk = 1000000 * part\n",
    "    print(f\"Processing part {part}, from {part} to {part+1} M ...\")\n",
    "    print(f\"Reading data -> Chunk Size to ignore is 1 to {chunk}\")\n",
    "    if part == 0: # Process the first 1M tweets\n",
    "        print(\"Reading first Chunk\")\n",
    "        df = pd.read_csv(filename, delimiter=';', usecols=fields, nrows=CHUNK_SIZE)\n",
    "    elif part == 16: # Process the last chunk of tweets around 800 000\n",
    "        print(\"Reading last Chunk\")\n",
    "        df = pd.read_csv(filename, delimiter=';', usecols=fields, skiprows=[i for i in range(1,chunk)])\n",
    "    elif part == 6:\n",
    "        print(f\"part from {part} to {part+1} has errors, ignore\")\n",
    "        continue\n",
    "    else: # Process the rest of tweets from 1M to 16M\n",
    "        print(f\"Reading chunk {part}\")\n",
    "        df = pd.read_csv(filename, delimiter=';', usecols=fields, skiprows=[i for i in range(1,chunk)], nrows=CHUNK_SIZE)\n",
    "        \n",
    "    # Remove time from timestamp\n",
    "    df['timestamp'] = pd.to_datetime(df['timestamp']).dt.date\n",
    "    # Remove tweets without replies, likes and retweets\n",
    "    df = df[df.replies.notnull() & df.likes.notnull() & df.retweets.notnull()]\n",
    "    length = len(df.index)\n",
    "    print(f\"Part {part} has {length} rows\") \n",
    "    # Concat filtered tweets    \n",
    "    df.to_csv(f\"/home/amaru-razerblade/bigdata-crypto/datos/clean_tweets_part_{counter}.csv\")\n",
    "    counter = counter + 1\n"
   ],
   "outputs": [
    {
     "output_type": "stream",
     "name": "stdout",
     "text": [
      "Processing part 9, from 9 to 10 M ...\n",
      "Reading data -> Chunk Size to ignore is 1 to 9000000\n",
      "Reading chunk 9\n",
      "Part 9 has 999990 rows\n",
      "Processing part 10, from 10 to 11 M ...\n",
      "Reading data -> Chunk Size to ignore is 1 to 10000000\n",
      "Reading chunk 10\n",
      "Part 10 has 999962 rows\n",
      "Processing part 11, from 11 to 12 M ...\n",
      "Reading data -> Chunk Size to ignore is 1 to 11000000\n",
      "Reading chunk 11\n"
     ]
    },
    {
     "output_type": "stream",
     "name": "stderr",
     "text": [
      "/opt/conda/miniconda3/lib/python3.8/site-packages/IPython/core/interactiveshell.py:3169: DtypeWarning: Columns (4,8) have mixed types.Specify dtype option on import or set low_memory=False.\n",
      "  has_raised = await self.run_ast_nodes(code_ast.body, cell_name,\n"
     ]
    },
    {
     "output_type": "stream",
     "name": "stdout",
     "text": [
      "Part 11 has 934390 rows\n",
      "Processing part 12, from 12 to 13 M ...\n",
      "Reading data -> Chunk Size to ignore is 1 to 12000000\n",
      "Reading chunk 12\n",
      "Part 12 has 999981 rows\n",
      "Processing part 13, from 13 to 14 M ...\n",
      "Reading data -> Chunk Size to ignore is 1 to 13000000\n",
      "Reading chunk 13\n",
      "Part 13 has 999989 rows\n",
      "Processing part 14, from 14 to 15 M ...\n",
      "Reading data -> Chunk Size to ignore is 1 to 14000000\n",
      "Reading chunk 14\n",
      "Part 14 has 999986 rows\n",
      "Processing part 15, from 15 to 16 M ...\n",
      "Reading data -> Chunk Size to ignore is 1 to 15000000\n",
      "Reading chunk 15\n",
      "Part 15 has 999983 rows\n",
      "Processing part 16, from 16 to 17 M ...\n",
      "Reading data -> Chunk Size to ignore is 1 to 16000000\n",
      "Reading last Chunk\n",
      "Part 16 has 890420 rows\n"
     ]
    }
   ],
   "metadata": {}
  }
 ],
 "metadata": {
  "kernelspec": {
   "display_name": "PySpark",
   "language": "python",
   "name": "pyspark"
  },
  "language_info": {
   "name": "python",
   "version": "3.8.10",
   "mimetype": "text/x-python",
   "codemirror_mode": {
    "name": "ipython",
    "version": 3
   },
   "pygments_lexer": "ipython3",
   "nbconvert_exporter": "python",
   "file_extension": ".py"
  }
 },
 "nbformat": 4,
 "nbformat_minor": 5
}